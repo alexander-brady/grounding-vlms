{
 "cells": [
  {
   "cell_type": "code",
   "execution_count": null,
   "id": "ae6fcc6d",
   "metadata": {},
   "outputs": [
    {
     "name": "stdout",
     "output_type": "stream",
     "text": [
      "Batch(id='batch_680952645754819090238a002c2df05d', completion_window='24h', created_at=1745441380, endpoint='/v1/chat/completions', input_file_id='file-ASy1FsWavETrZhLKxnDqv4', object='batch', status='completed', cancelled_at=None, cancelling_at=None, completed_at=1745441528, error_file_id='file-LUC8R8RQs19eyifDrFnzrV', errors=None, expired_at=None, expires_at=1745527780, failed_at=None, finalizing_at=1745441527, in_progress_at=1745441381, metadata={'description': 'Running evaluation for batch input'}, output_file_id=None, request_counts=BatchRequestCounts(completed=0, failed=5, total=5))\n"
     ]
    },
    {
     "ename": "NameError",
     "evalue": "name 'file' is not defined",
     "output_type": "error",
     "traceback": [
      "\u001b[31m---------------------------------------------------------------------------\u001b[39m",
      "\u001b[31mNameError\u001b[39m                                 Traceback (most recent call last)",
      "\u001b[36mCell\u001b[39m\u001b[36m \u001b[39m\u001b[32mIn[6]\u001b[39m\u001b[32m, line 9\u001b[39m\n\u001b[32m      6\u001b[39m batch = client.batches.retrieve(batch_id)\n\u001b[32m      7\u001b[39m \u001b[38;5;28mprint\u001b[39m(batch) \u001b[38;5;66;03m# Check status. Should be 'completed'\u001b[39;00m\n\u001b[32m----> \u001b[39m\u001b[32m9\u001b[39m file_response = client.files.content(file_id=\u001b[43mfile\u001b[49m-KMTp4kBxe6TeeqWWxp8Bm5)\n\u001b[32m     10\u001b[39m \u001b[38;5;28mprint\u001b[39m(file_response.text)\n",
      "\u001b[31mNameError\u001b[39m: name 'file' is not defined"
     ]
    }
   ],
   "source": [
    "from openai import OpenAI\n",
    "\n",
    "client = OpenAI()\n",
    "batch_id = \"batch_680952645754819090238a002c2df05d\"\n",
    "file_id = \"file-KMTp4kBxe6TeeqWWxp8Bm5\"\n",
    "batch = client.batches.retrieve(batch_id)\n",
    "print(batch) # Check status. Should be 'completed'\n",
    "\n",
    "file_response = client.files.content(file_id=file_id)\n",
    "print(file_response.text)"
   ]
  }
 ],
 "metadata": {
  "kernelspec": {
   "display_name": ".venv",
   "language": "python",
   "name": "python3"
  },
  "language_info": {
   "codemirror_mode": {
    "name": "ipython",
    "version": 3
   },
   "file_extension": ".py",
   "mimetype": "text/x-python",
   "name": "python",
   "nbconvert_exporter": "python",
   "pygments_lexer": "ipython3",
   "version": "3.12.3"
  }
 },
 "nbformat": 4,
 "nbformat_minor": 5
}
