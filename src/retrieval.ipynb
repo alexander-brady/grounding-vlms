{
 "cells": [
  {
   "cell_type": "markdown",
   "id": "b478a81a",
   "metadata": {},
   "source": [
    "# OpenAI results retrieval \n",
    "\n",
    "OpenAI Batch jobs need to be retrieved once they are done running."
   ]
  },
  {
   "cell_type": "code",
   "execution_count": null,
   "id": "5236c372",
   "metadata": {},
   "outputs": [],
   "source": [
    "from openai import OpenAI\n",
    "from dotenv import load_dotenv\n",
    "\n",
    "load_dotenv()\n",
    "client = OpenAI()\n",
    "\n",
    "batch_id = \"batch_680a34fdd46c8190934c95a2cb1c19d2\"\n",
    "file_id = \"file-Rc7n6bUMUMhoTxW7bPX9VQ \"\n",
    "\n",
    "batch = client.batches.retrieve(batch_id)\n",
    "print(batch.status) # Check status. Should be 'completed'"
   ]
  },
  {
   "cell_type": "markdown",
   "id": "5e708da3",
   "metadata": {},
   "source": [
    "Once completed, retrieve with:"
   ]
  },
  {
   "cell_type": "code",
   "execution_count": null,
   "id": "b7d2096d",
   "metadata": {},
   "outputs": [],
   "source": [
    "file_response = client.files.content(file_id=file_id)\n",
    "print(file_response.text)"
   ]
  },
  {
   "cell_type": "markdown",
   "id": "28a86dad",
   "metadata": {},
   "source": [
    "Save as DataFrame"
   ]
  },
  {
   "cell_type": "code",
   "execution_count": null,
   "id": "9ce30b9a",
   "metadata": {},
   "outputs": [
    {
     "name": "stdout",
     "output_type": "stream",
     "text": [
      "                                           prompt  \\\n",
      "0        How many sea shells are in this picture?   \n",
      "1  How many hot air balloons are in this picture?   \n",
      "2  How many hot air balloons are in this picture?   \n",
      "3  How many hot air balloons are in this picture?   \n",
      "4  How many hot air balloons are in this picture?   \n",
      "\n",
      "                                           image_url  \\\n",
      "0  data:image/jpeg;base64,/9j/4AAQSkZJRgABAQAAAQA...   \n",
      "1  data:image/jpeg;base64,/9j/4AAQSkZJRgABAQAAAQA...   \n",
      "2  data:image/jpeg;base64,/9j/4AAQSkZJRgABAQAAAQA...   \n",
      "3  data:image/jpeg;base64,/9j/4AAQSkZJRgABAQAAAQA...   \n",
      "4  data:image/jpeg;base64,/9j/4AAQSkZJRgABAQAAAQA...   \n",
      "\n",
      "                       response  \n",
      "0  ERROR 404: No response found  \n",
      "1  ERROR 404: No response found  \n",
      "2  ERROR 404: No response found  \n",
      "3  ERROR 404: No response found  \n",
      "4  ERROR 404: No response found  \n"
     ]
    }
   ],
   "source": [
    "import json\n",
    "import pandas as pd\n",
    "\n",
    "data = [json.loads(line) for line in file_response.text]\n",
    "    \n",
    "def get_content(data: dict) -> str:\n",
    "    return data['body']['messages'][1]['content']\n",
    "\n",
    "def get_response(data: dict) -> str:\n",
    "    messages = data['body']['messages']\n",
    "    if len(messages) > 2:\n",
    "        return messages[2]['content']\n",
    "    else:\n",
    "        return \"ERROR 404: No response found\"\n",
    "\n",
    "df = pd.DataFrame({\n",
    "    'prompt': [ get_content(d)[0]['text'] for d in data ],\n",
    "    'image_url': [ get_content(d)[1]['image_url'] for d in data ],\n",
    "    'response': [ get_response(d) for d in data ]\n",
    "})\n",
    "df.head()"
   ]
  },
  {
   "cell_type": "markdown",
   "id": "37b948dc",
   "metadata": {},
   "source": [
    "Save as csv:"
   ]
  },
  {
   "cell_type": "code",
   "execution_count": null,
   "id": "dce20e62",
   "metadata": {},
   "outputs": [],
   "source": [
    "import os, time\n",
    "\n",
    "DIR = '../eval/results/openai'\n",
    "\n",
    "timestamp = time.strftime(\"%Y-%m-%d_%H-%M-%S\")\n",
    "model = data[0]['body']['model'].replace(\"/\", \"_\")\n",
    "\n",
    "os.makedirs(DIR + '/' + model, exist_ok=True)\n",
    "df.to_csv(f\"{DIR}/{model}/{timestamp}.csv\", index=False)"
   ]
  }
 ],
 "metadata": {
  "kernelspec": {
   "display_name": "venv",
   "language": "python",
   "name": "python3"
  },
  "language_info": {
   "codemirror_mode": {
    "name": "ipython",
    "version": 3
   },
   "file_extension": ".py",
   "mimetype": "text/x-python",
   "name": "python",
   "nbconvert_exporter": "python",
   "pygments_lexer": "ipython3",
   "version": "3.10.11"
  }
 },
 "nbformat": 4,
 "nbformat_minor": 5
}
