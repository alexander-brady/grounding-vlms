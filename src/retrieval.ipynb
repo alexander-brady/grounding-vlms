{
 "cells": [
  {
   "cell_type": "markdown",
   "id": "b478a81a",
   "metadata": {},
   "source": [
    "# OpenAI results retrieval \n",
    "\n",
    "Retrieve OpenAI batch scripts once they are done running."
   ]
  },
  {
   "cell_type": "code",
   "execution_count": 11,
   "id": "5236c372",
   "metadata": {},
   "outputs": [
    {
     "name": "stdout",
     "output_type": "stream",
     "text": [
      "failed\n"
     ]
    }
   ],
   "source": [
    "from openai import OpenAI\n",
    "from dotenv import load_dotenv\n",
    "\n",
    "load_dotenv()\n",
    "client = OpenAI()\n",
    "\n",
    "batch_id = \"batch_680bfd5990bc8190b2c88d61b156ac2a\"\n",
    "\n",
    "batch = client.batches.retrieve(batch_id)\n",
    "print(batch.status) # Check status. Should be 'completed'"
   ]
  },
  {
   "cell_type": "markdown",
   "id": "5e708da3",
   "metadata": {},
   "source": [
    "Once completed, retrieve with:"
   ]
  },
  {
   "cell_type": "code",
   "execution_count": null,
   "id": "b7d2096d",
   "metadata": {},
   "outputs": [
    {
     "name": "stdout",
     "output_type": "stream",
     "text": [
      "{\"id\": \"batch_req_680b39d653948190860bfb36c3ad5c29\", \"custom_id\": \"0\", \"response\": {\"status_code\": 200, \"request_id\": \"d50340c6a7d007cf00b30186abb9c6de\", \"body\": {\"id\": \"chatcmpl-BQ7lr4YHn2T5Cm0NUff5GMsQ1lHOP\", \"object\": \"chat.completion\", \"created\": 1745566099, \"model\": \"gpt-4.1-2025-04-14\", \"choices\": [{\"index\": 0, \"message\": {\"role\": \"assistant\", \"content\": \"{\\\"count\\\":8}\", \"refusal\": null, \"annotations\": []}, \"logprobs\": null, \"finish_reason\": \"stop\"}], \"usage\": {\"prompt_tokens\": 486, \"completion_tokens\": 6, \"total_tokens\": 492, \"prompt_tokens_details\": {\"cached_tokens\": 0, \"audio_tokens\": 0}, \"completion_tokens_details\": {\"reasoning_tokens\": 0, \"audio_tokens\": 0, \"accepted_prediction_tokens\": 0, \"rejected_prediction_tokens\": 0}}, \"service_tier\": \"default\", \"system_fingerprint\": \"fp_b38e740b47\"}}, \"error\": null}\n"
     ]
    }
   ],
   "source": [
    "file_id = batch.output_file_id\n",
    "file_response = client.files.content(file_id=file_id)\n",
    "print(file_response.text.splitlines()[0])"
   ]
  },
  {
   "cell_type": "markdown",
   "id": "28a86dad",
   "metadata": {},
   "source": [
    "Save as DataFrame"
   ]
  },
  {
   "cell_type": "code",
   "execution_count": 39,
   "id": "9ce30b9a",
   "metadata": {},
   "outputs": [
    {
     "data": {
      "application/vnd.microsoft.datawrangler.viewer.v0+json": {
       "columns": [
        {
         "name": "index",
         "rawType": "int64",
         "type": "integer"
        },
        {
         "name": "custom_id",
         "rawType": "object",
         "type": "string"
        },
        {
         "name": "response",
         "rawType": "int64",
         "type": "integer"
        }
       ],
       "conversionMethod": "pd.DataFrame",
       "ref": "920571e7-a91b-4e1d-b8c7-d05a57e96f2b",
       "rows": [
        [
         "0",
         "0",
         "8"
        ],
        [
         "1",
         "1",
         "11"
        ],
        [
         "2",
         "2",
         "10"
        ],
        [
         "3",
         "3",
         "81"
        ],
        [
         "4",
         "4",
         "9"
        ]
       ],
       "shape": {
        "columns": 2,
        "rows": 5
       }
      },
      "text/html": [
       "<div>\n",
       "<style scoped>\n",
       "    .dataframe tbody tr th:only-of-type {\n",
       "        vertical-align: middle;\n",
       "    }\n",
       "\n",
       "    .dataframe tbody tr th {\n",
       "        vertical-align: top;\n",
       "    }\n",
       "\n",
       "    .dataframe thead th {\n",
       "        text-align: right;\n",
       "    }\n",
       "</style>\n",
       "<table border=\"1\" class=\"dataframe\">\n",
       "  <thead>\n",
       "    <tr style=\"text-align: right;\">\n",
       "      <th></th>\n",
       "      <th>custom_id</th>\n",
       "      <th>response</th>\n",
       "    </tr>\n",
       "  </thead>\n",
       "  <tbody>\n",
       "    <tr>\n",
       "      <th>0</th>\n",
       "      <td>0</td>\n",
       "      <td>8</td>\n",
       "    </tr>\n",
       "    <tr>\n",
       "      <th>1</th>\n",
       "      <td>1</td>\n",
       "      <td>11</td>\n",
       "    </tr>\n",
       "    <tr>\n",
       "      <th>2</th>\n",
       "      <td>2</td>\n",
       "      <td>10</td>\n",
       "    </tr>\n",
       "    <tr>\n",
       "      <th>3</th>\n",
       "      <td>3</td>\n",
       "      <td>81</td>\n",
       "    </tr>\n",
       "    <tr>\n",
       "      <th>4</th>\n",
       "      <td>4</td>\n",
       "      <td>9</td>\n",
       "    </tr>\n",
       "  </tbody>\n",
       "</table>\n",
       "</div>"
      ],
      "text/plain": [
       "  custom_id  response\n",
       "0         0         8\n",
       "1         1        11\n",
       "2         2        10\n",
       "3         3        81\n",
       "4         4         9"
      ]
     },
     "execution_count": 39,
     "metadata": {},
     "output_type": "execute_result"
    }
   ],
   "source": [
    "import json\n",
    "import pandas as pd\n",
    "\n",
    "jsonified = [\n",
    "    json.loads(line)\n",
    "    for line in file_response.text.splitlines()\n",
    "]\n",
    "\n",
    "custom_ids = [\n",
    "    obj['custom_id']\n",
    "    for obj in jsonified\n",
    "]\n",
    "\n",
    "responses = [\n",
    "    json.loads(\n",
    "        obj['response']['body']['choices'][0]['message']['content']        \n",
    "    )['count']\n",
    "    for obj in jsonified\n",
    "]\n",
    "\n",
    "df = pd.DataFrame({\n",
    "    'custom_id': custom_ids,\n",
    "    'response': responses\n",
    "})\n",
    "df.head()"
   ]
  },
  {
   "cell_type": "markdown",
   "id": "37b948dc",
   "metadata": {},
   "source": [
    "Save as csv:"
   ]
  },
  {
   "cell_type": "code",
   "execution_count": null,
   "id": "39774f45",
   "metadata": {},
   "outputs": [],
   "source": [
    "import time\n",
    "\n",
    "timestamp = time.strftime(\"%Y-%m-%d_%H-%M-%S\")"
   ]
  },
  {
   "cell_type": "code",
   "execution_count": null,
   "id": "dce20e62",
   "metadata": {},
   "outputs": [
    {
     "name": "stdout",
     "output_type": "stream",
     "text": [
      "gpt-4.1-2025-04-14\n"
     ]
    }
   ],
   "source": [
    "import os\n",
    "\n",
    "DATASET='TallyQA'\n",
    "DIR = '../eval/results/openai'\n",
    "\n",
    "model = jsonified[0]['response']['body']['model'].replace(\"/\", \"_\")\n",
    "\n",
    "os.makedirs(DIR + '/' + model, exist_ok=True)\n",
    "df.to_csv(f\"{DIR}/{model}/{timestamp}/{DATASET}.csv\", index=False)\n",
    "\n",
    "print(f\"Results saved to {DIR}/{model}/{timestamp}/{DATASET}.csv\")"
   ]
  },
  {
   "cell_type": "code",
   "execution_count": 1,
   "id": "61075e9b",
   "metadata": {},
   "outputs": [
    {
     "name": "stderr",
     "output_type": "stream",
     "text": [
      "/cluster/project/sachan/pmlr/grounding-vlms/.venv/lib/python3.11/site-packages/tqdm/auto.py:21: TqdmWarning: IProgress not found. Please update jupyter and ipywidgets. See https://ipywidgets.readthedocs.io/en/stable/user_install.html\n",
      "  from .autonotebook import tqdm as notebook_tqdm\n"
     ]
    },
    {
     "name": "stdout",
     "output_type": "stream",
     "text": [
      "Creating results...\n",
      "/cluster/project/sachan/pmlr/grounding-vlms/eval/valid_results/GPT-4.1/FSC-147_results.csv\n",
      "/cluster/project/sachan/pmlr/grounding-vlms/eval/valid_results/gemini-2.5-flash-preview-04-17/FSC-147_results.csv\n",
      "/cluster/project/sachan/pmlr/grounding-vlms/eval/valid_results/gemma-3-12b-it/FSC-147_results.csv\n",
      "/cluster/project/sachan/pmlr/grounding-vlms/eval/valid_results/gemma-3-12b-it/TallyQA_results.csv\n",
      "/cluster/project/sachan/pmlr/grounding-vlms/eval/valid_results/gemma-3-27b-it/FSC-147_results.csv\n",
      "/cluster/project/sachan/pmlr/grounding-vlms/eval/valid_results/gemma-3-27b-it/TallyQA_results.csv\n"
     ]
    },
    {
     "ename": "ParserError",
     "evalue": "Error tokenizing data. C error: Expected 3 fields in line 410, saw 4\n",
     "output_type": "error",
     "traceback": [
      "\u001b[31m---------------------------------------------------------------------------\u001b[39m",
      "\u001b[31mParserError\u001b[39m                               Traceback (most recent call last)",
      "\u001b[36mCell\u001b[39m\u001b[36m \u001b[39m\u001b[32mIn[1]\u001b[39m\u001b[32m, line 2\u001b[39m\n\u001b[32m      1\u001b[39m \u001b[38;5;28;01mfrom\u001b[39;00m\u001b[38;5;250m \u001b[39m\u001b[34;01mmodels\u001b[39;00m\u001b[34;01m.\u001b[39;00m\u001b[34;01mresults\u001b[39;00m\u001b[38;5;250m \u001b[39m\u001b[38;5;28;01mimport\u001b[39;00m create_results\n\u001b[32m----> \u001b[39m\u001b[32m2\u001b[39m \u001b[43mcreate_results\u001b[49m\u001b[43m(\u001b[49m\u001b[43m)\u001b[49m\n",
      "\u001b[36mFile \u001b[39m\u001b[32m/cluster/project/sachan/pmlr/grounding-vlms/src/models/results.py:403\u001b[39m, in \u001b[36mcreate_results\u001b[39m\u001b[34m(data_dir, results_dir)\u001b[39m\n\u001b[32m    401\u001b[39m name = rf.stem.replace(\u001b[33m'\u001b[39m\u001b[33m_results\u001b[39m\u001b[33m'\u001b[39m, \u001b[33m'\u001b[39m\u001b[33m'\u001b[39m)\n\u001b[32m    402\u001b[39m truth_file = DATA_DIR / \u001b[33mf\u001b[39m\u001b[33m\"\u001b[39m\u001b[38;5;132;01m{\u001b[39;00mname\u001b[38;5;132;01m}\u001b[39;00m\u001b[33m_dataset.csv\u001b[39m\u001b[33m\"\u001b[39m\n\u001b[32m--> \u001b[39m\u001b[32m403\u001b[39m df    = \u001b[43mload_and_merge\u001b[49m\u001b[43m(\u001b[49m\u001b[43mtruth_file\u001b[49m\u001b[43m,\u001b[49m\u001b[43m \u001b[49m\u001b[43mrf\u001b[49m\u001b[43m)\u001b[49m\n\u001b[32m    404\u001b[39m df    = df[df[\u001b[33m'\u001b[39m\u001b[33mresult\u001b[39m\u001b[33m'\u001b[39m] != -\u001b[32m1\u001b[39m]  \u001b[38;5;66;03m# Filter out rows where result is -1\u001b[39;00m\n\u001b[32m    406\u001b[39m find_largest_outliers(df, model=model_dir.name, dataset=name)\n",
      "\u001b[36mFile \u001b[39m\u001b[32m/cluster/project/sachan/pmlr/grounding-vlms/src/models/results.py:33\u001b[39m, in \u001b[36mload_and_merge\u001b[39m\u001b[34m(dfile, rfile)\u001b[39m\n\u001b[32m     31\u001b[39m \u001b[38;5;28mprint\u001b[39m(rfile)\n\u001b[32m     32\u001b[39m df_truth[\u001b[33m'\u001b[39m\u001b[33mtruth\u001b[39m\u001b[33m'\u001b[39m] = df_truth[\u001b[33m'\u001b[39m\u001b[33mtruth\u001b[39m\u001b[33m'\u001b[39m].astype(\u001b[38;5;28mint\u001b[39m)\n\u001b[32m---> \u001b[39m\u001b[32m33\u001b[39m df_res = \u001b[43mpd\u001b[49m\u001b[43m.\u001b[49m\u001b[43mread_csv\u001b[49m\u001b[43m(\u001b[49m\u001b[43mrfile\u001b[49m\u001b[43m)\u001b[49m.astype({\u001b[33m'\u001b[39m\u001b[33midx\u001b[39m\u001b[33m'\u001b[39m: \u001b[38;5;28mint\u001b[39m, \u001b[33m'\u001b[39m\u001b[33mresult\u001b[39m\u001b[33m'\u001b[39m: \u001b[38;5;28mint\u001b[39m})\n\u001b[32m     34\u001b[39m \u001b[38;5;28;01mreturn\u001b[39;00m df_truth.join(df_res.set_index(\u001b[33m'\u001b[39m\u001b[33midx\u001b[39m\u001b[33m'\u001b[39m), on=\u001b[33m'\u001b[39m\u001b[33midx\u001b[39m\u001b[33m'\u001b[39m, how=\u001b[33m'\u001b[39m\u001b[33minner\u001b[39m\u001b[33m'\u001b[39m)\n",
      "\u001b[36mFile \u001b[39m\u001b[32m/cluster/project/sachan/pmlr/grounding-vlms/.venv/lib/python3.11/site-packages/pandas/io/parsers/readers.py:1026\u001b[39m, in \u001b[36mread_csv\u001b[39m\u001b[34m(filepath_or_buffer, sep, delimiter, header, names, index_col, usecols, dtype, engine, converters, true_values, false_values, skipinitialspace, skiprows, skipfooter, nrows, na_values, keep_default_na, na_filter, verbose, skip_blank_lines, parse_dates, infer_datetime_format, keep_date_col, date_parser, date_format, dayfirst, cache_dates, iterator, chunksize, compression, thousands, decimal, lineterminator, quotechar, quoting, doublequote, escapechar, comment, encoding, encoding_errors, dialect, on_bad_lines, delim_whitespace, low_memory, memory_map, float_precision, storage_options, dtype_backend)\u001b[39m\n\u001b[32m   1013\u001b[39m kwds_defaults = _refine_defaults_read(\n\u001b[32m   1014\u001b[39m     dialect,\n\u001b[32m   1015\u001b[39m     delimiter,\n\u001b[32m   (...)\u001b[39m\u001b[32m   1022\u001b[39m     dtype_backend=dtype_backend,\n\u001b[32m   1023\u001b[39m )\n\u001b[32m   1024\u001b[39m kwds.update(kwds_defaults)\n\u001b[32m-> \u001b[39m\u001b[32m1026\u001b[39m \u001b[38;5;28;01mreturn\u001b[39;00m \u001b[43m_read\u001b[49m\u001b[43m(\u001b[49m\u001b[43mfilepath_or_buffer\u001b[49m\u001b[43m,\u001b[49m\u001b[43m \u001b[49m\u001b[43mkwds\u001b[49m\u001b[43m)\u001b[49m\n",
      "\u001b[36mFile \u001b[39m\u001b[32m/cluster/project/sachan/pmlr/grounding-vlms/.venv/lib/python3.11/site-packages/pandas/io/parsers/readers.py:626\u001b[39m, in \u001b[36m_read\u001b[39m\u001b[34m(filepath_or_buffer, kwds)\u001b[39m\n\u001b[32m    623\u001b[39m     \u001b[38;5;28;01mreturn\u001b[39;00m parser\n\u001b[32m    625\u001b[39m \u001b[38;5;28;01mwith\u001b[39;00m parser:\n\u001b[32m--> \u001b[39m\u001b[32m626\u001b[39m     \u001b[38;5;28;01mreturn\u001b[39;00m \u001b[43mparser\u001b[49m\u001b[43m.\u001b[49m\u001b[43mread\u001b[49m\u001b[43m(\u001b[49m\u001b[43mnrows\u001b[49m\u001b[43m)\u001b[49m\n",
      "\u001b[36mFile \u001b[39m\u001b[32m/cluster/project/sachan/pmlr/grounding-vlms/.venv/lib/python3.11/site-packages/pandas/io/parsers/readers.py:1923\u001b[39m, in \u001b[36mTextFileReader.read\u001b[39m\u001b[34m(self, nrows)\u001b[39m\n\u001b[32m   1916\u001b[39m nrows = validate_integer(\u001b[33m\"\u001b[39m\u001b[33mnrows\u001b[39m\u001b[33m\"\u001b[39m, nrows)\n\u001b[32m   1917\u001b[39m \u001b[38;5;28;01mtry\u001b[39;00m:\n\u001b[32m   1918\u001b[39m     \u001b[38;5;66;03m# error: \"ParserBase\" has no attribute \"read\"\u001b[39;00m\n\u001b[32m   1919\u001b[39m     (\n\u001b[32m   1920\u001b[39m         index,\n\u001b[32m   1921\u001b[39m         columns,\n\u001b[32m   1922\u001b[39m         col_dict,\n\u001b[32m-> \u001b[39m\u001b[32m1923\u001b[39m     ) = \u001b[38;5;28;43mself\u001b[39;49m\u001b[43m.\u001b[49m\u001b[43m_engine\u001b[49m\u001b[43m.\u001b[49m\u001b[43mread\u001b[49m\u001b[43m(\u001b[49m\u001b[43m  \u001b[49m\u001b[38;5;66;43;03m# type: ignore[attr-defined]\u001b[39;49;00m\n\u001b[32m   1924\u001b[39m \u001b[43m        \u001b[49m\u001b[43mnrows\u001b[49m\n\u001b[32m   1925\u001b[39m \u001b[43m    \u001b[49m\u001b[43m)\u001b[49m\n\u001b[32m   1926\u001b[39m \u001b[38;5;28;01mexcept\u001b[39;00m \u001b[38;5;167;01mException\u001b[39;00m:\n\u001b[32m   1927\u001b[39m     \u001b[38;5;28mself\u001b[39m.close()\n",
      "\u001b[36mFile \u001b[39m\u001b[32m/cluster/project/sachan/pmlr/grounding-vlms/.venv/lib/python3.11/site-packages/pandas/io/parsers/c_parser_wrapper.py:234\u001b[39m, in \u001b[36mCParserWrapper.read\u001b[39m\u001b[34m(self, nrows)\u001b[39m\n\u001b[32m    232\u001b[39m \u001b[38;5;28;01mtry\u001b[39;00m:\n\u001b[32m    233\u001b[39m     \u001b[38;5;28;01mif\u001b[39;00m \u001b[38;5;28mself\u001b[39m.low_memory:\n\u001b[32m--> \u001b[39m\u001b[32m234\u001b[39m         chunks = \u001b[38;5;28;43mself\u001b[39;49m\u001b[43m.\u001b[49m\u001b[43m_reader\u001b[49m\u001b[43m.\u001b[49m\u001b[43mread_low_memory\u001b[49m\u001b[43m(\u001b[49m\u001b[43mnrows\u001b[49m\u001b[43m)\u001b[49m\n\u001b[32m    235\u001b[39m         \u001b[38;5;66;03m# destructive to chunks\u001b[39;00m\n\u001b[32m    236\u001b[39m         data = _concatenate_chunks(chunks)\n",
      "\u001b[36mFile \u001b[39m\u001b[32mparsers.pyx:838\u001b[39m, in \u001b[36mpandas._libs.parsers.TextReader.read_low_memory\u001b[39m\u001b[34m()\u001b[39m\n",
      "\u001b[36mFile \u001b[39m\u001b[32mparsers.pyx:905\u001b[39m, in \u001b[36mpandas._libs.parsers.TextReader._read_rows\u001b[39m\u001b[34m()\u001b[39m\n",
      "\u001b[36mFile \u001b[39m\u001b[32mparsers.pyx:874\u001b[39m, in \u001b[36mpandas._libs.parsers.TextReader._tokenize_rows\u001b[39m\u001b[34m()\u001b[39m\n",
      "\u001b[36mFile \u001b[39m\u001b[32mparsers.pyx:891\u001b[39m, in \u001b[36mpandas._libs.parsers.TextReader._check_tokenize_status\u001b[39m\u001b[34m()\u001b[39m\n",
      "\u001b[36mFile \u001b[39m\u001b[32mparsers.pyx:2061\u001b[39m, in \u001b[36mpandas._libs.parsers.raise_parser_error\u001b[39m\u001b[34m()\u001b[39m\n",
      "\u001b[31mParserError\u001b[39m: Error tokenizing data. C error: Expected 3 fields in line 410, saw 4\n"
     ]
    }
   ],
   "source": [
    "from models.results import create_results\n",
    "create_results()"
   ]
  }
 ],
 "metadata": {
  "kernelspec": {
   "display_name": ".venv",
   "language": "python",
   "name": "python3"
  },
  "language_info": {
   "codemirror_mode": {
    "name": "ipython",
    "version": 3
   },
   "file_extension": ".py",
   "mimetype": "text/x-python",
   "name": "python",
   "nbconvert_exporter": "python",
   "pygments_lexer": "ipython3",
   "version": "3.11.6"
  }
 },
 "nbformat": 4,
 "nbformat_minor": 5
}
