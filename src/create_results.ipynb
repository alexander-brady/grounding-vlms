{
 "cells": [
  {
   "cell_type": "code",
   "execution_count": 2,
   "id": "0101717e",
   "metadata": {},
   "outputs": [
    {
     "name": "stdout",
     "output_type": "stream",
     "text": [
      "Creating results...\n",
      "Summary saved to /cluster/project/sachan/pmlr/grounding-vlms/eval/analysis/summary.csv\n",
      "Plots saved to /cluster/project/sachan/pmlr/grounding-vlms/eval/analysis/plots\n"
     ]
    }
   ],
   "source": [
    "from evaluator.results import create_results\n",
    "\n",
    "create_results()"
   ]
  }
 ],
 "metadata": {
  "kernelspec": {
   "display_name": ".venv",
   "language": "python",
   "name": "python3"
  },
  "language_info": {
   "codemirror_mode": {
    "name": "ipython",
    "version": 3
   },
   "file_extension": ".py",
   "mimetype": "text/x-python",
   "name": "python",
   "nbconvert_exporter": "python",
   "pygments_lexer": "ipython3",
   "version": "3.11.6"
  }
 },
 "nbformat": 4,
 "nbformat_minor": 5
}
