{
 "cells": [
  {
   "cell_type": "code",
   "execution_count": 1,
   "id": "0f04f3a5",
   "metadata": {},
   "outputs": [],
   "source": [
    "path='GeckoNum'"
   ]
  },
  {
   "cell_type": "markdown",
   "id": "ad23286d",
   "metadata": {},
   "source": [
    "# Ensures each image link works"
   ]
  },
  {
   "cell_type": "code",
   "execution_count": null,
   "id": "37c2c67a",
   "metadata": {},
   "outputs": [],
   "source": [
    "import pandas as pd\n",
    "\n",
    "df = pd.read_csv(path + '/dataset.csv')\n",
    "print('Length of dataset:', len(df))\n",
    "df.head()"
   ]
  },
  {
   "cell_type": "code",
   "execution_count": null,
   "id": "f65c894e",
   "metadata": {},
   "outputs": [],
   "source": [
    "import requests\n",
    "from concurrent.futures import ThreadPoolExecutor, as_completed\n",
    "from tqdm import tqdm\n",
    "\n",
    "failed_urls = []\n",
    "\n",
    "def fetch_image(i_row):\n",
    "    i, row = i_row\n",
    "    url = row['image_url']\n",
    "    try:\n",
    "        response = requests.get(url)\n",
    "        if response.status_code != 200:\n",
    "            return i, url\n",
    "    except Exception:\n",
    "        return i, url\n",
    "    return None\n",
    "\n",
    "with ThreadPoolExecutor(max_workers=10) as executor:\n",
    "    futures = [executor.submit(fetch_image, item) for item in df.iterrows()]\n",
    "    for future in tqdm(as_completed(futures), total=len(futures)):\n",
    "        result = future.result()\n",
    "        if result:\n",
    "            i, url = result\n",
    "            failed_urls.append(i)\n",
    "            print(f\"Row {i}: Failed to download {url}\")"
   ]
  }
 ],
 "metadata": {
  "kernelspec": {
   "display_name": ".venv",
   "language": "python",
   "name": "python3"
  },
  "language_info": {
   "codemirror_mode": {
    "name": "ipython",
    "version": 3
   },
   "file_extension": ".py",
   "mimetype": "text/x-python",
   "name": "python",
   "nbconvert_exporter": "python",
   "pygments_lexer": "ipython3",
   "version": "3.11.6"
  }
 },
 "nbformat": 4,
 "nbformat_minor": 5
}
