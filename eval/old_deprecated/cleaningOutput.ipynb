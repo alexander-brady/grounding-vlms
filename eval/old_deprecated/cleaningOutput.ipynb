{
 "cells": [
  {
   "cell_type": "code",
   "execution_count": 6,
   "id": "95689480",
   "metadata": {},
   "outputs": [
    {
     "name": "stdout",
     "output_type": "stream",
     "text": [
      "Processed CSV saved to /cluster/project/sachan/pmlr/grounding-vlms/eval/valid_results/claude-3.5-haiku/TallyQA_results_processed_processed.csv\n"
     ]
    }
   ],
   "source": [
    "import pandas as pd\n",
    "input_path = r'/cluster/project/sachan/pmlr/grounding-vlms/eval/valid_results/claude-3.5-haiku/TallyQA_results_processed.csv'\n",
    "\n",
    "\n",
    "def process_csv(input_path, output_path):\n",
    "    # Manual parsing to handle commas in raw_result field\n",
    "    data = []\n",
    "    with open(input_path, 'r', encoding='utf-8') as file:\n",
    "        # Skip header line but save it\n",
    "        header = next(file).strip()\n",
    "        \n",
    "        for line in file:\n",
    "            line = line.strip()\n",
    "            if not line:  # Skip empty lines\n",
    "                continue\n",
    "                \n",
    "            # Split by comma, but only take first 2 fields\n",
    "            parts = line.split(',', 2)\n",
    "            \n",
    "            # Ensure we have at least 3 parts\n",
    "            while len(parts) < 3:\n",
    "                parts.append('')\n",
    "                \n",
    "            # Create a row dict with the first two fields and everything else as raw_result\n",
    "            row = {\n",
    "                'idx': parts[0],\n",
    "                'result': parts[1],\n",
    "                'raw_result': parts[2]\n",
    "            }\n",
    "            data.append(row)\n",
    "    \n",
    "    # Rest of the function remains the same\n",
    "    df = pd.DataFrame(data)\n",
    "    \n",
    "    # Apply the same processing logic\n",
    "    def process_row(row):\n",
    "        try:\n",
    "            float(row['raw_result'])\n",
    "            return row  # Third column is a number, keep as is\n",
    "        except (ValueError, TypeError):\n",
    "            sentence = str(row['raw_result']).lower()\n",
    "            if \" is no \" in sentence or \" not show \" in sentence or \" are no \" in sentence or \"not see\" in sentence or \"not a\":\n",
    "                return {\n",
    "                    'idx': row['idx'],\n",
    "                    'result': '0',\n",
    "                    'raw_result': '0 sentence'\n",
    "                }\n",
    "            else:\n",
    "                return row\n",
    "\n",
    "    processed = df.apply(process_row, axis=1, result_type='expand')\n",
    "    processed.to_csv(output_path, index=False)\n",
    "    \n",
    "    return processed\n",
    "    \n",
    "\n",
    "process_csv(input_path, input_path.replace('.csv', '.csv'))\n",
    "print(f\"Processed CSV saved to {input_path.replace('.csv', '_processed.csv')}\")\n",
    "\n"
   ]
  },
  {
   "cell_type": "code",
   "execution_count": 9,
   "id": "93a45d2f",
   "metadata": {},
   "outputs": [],
   "source": [
    "def remove_long_lines_from_csv(path, maxChar):\n",
    "    with open(path, 'r', encoding='utf-8') as f:\n",
    "        lines = f.readlines()\n",
    "\n",
    "    # Keep lines that are shorter than or equal to maxChar\n",
    "    filtered_lines = [line for line in lines if len(line) <= maxChar]\n",
    "\n",
    "    # Overwrite the file with filtered lines\n",
    "    with open(path, 'w', encoding='utf-8') as f:\n",
    "        f.writelines(filtered_lines)\n",
    "remove_long_lines_from_csv(input_path, 20)"
   ]
  },
  {
   "cell_type": "code",
   "execution_count": 28,
   "id": "6fafcd94",
   "metadata": {},
   "outputs": [],
   "source": [
    "def double_check_csv(path):\n",
    "    df = pd.read_csv(path)\n",
    "    lastIndex = -1\n",
    "    for i, series in df.iterrows():\n",
    "        try:\n",
    "            idx, result, raw_result = series.values\n",
    "        except ValueError:\n",
    "            print(f\"Row {series} has an issue.{i}\")\n",
    "            continue\n",
    "        if idx != lastIndex + 1:\n",
    "            print(f\"Row {series} has an issue.{i}; expected {lastIndex + 1} but got {idx}\\n---\\n\")\n",
    "            lastIndex -=1\n",
    "        lastIndex += 1\n",
    "        try:\n",
    "            float(raw_result)\n",
    "        except ValueError:\n",
    "            if not \"sentence\" in raw_result:\n",
    "                print(f\"Row {series} has an issue.{i}; expected a number but got {raw_result}\\n---\\n\")\n",
    "            else:\n",
    "                continue\n",
    "        try:\n",
    "            float(result)\n",
    "        except ValueError:\n",
    "            print(f\"Row {series} has an issue.{i}; expected a number but got {result}\\n---\\n\")\n",
    "            continue\n",
    "        \n",
    "double_check_csv(input_path)"
   ]
  }
 ],
 "metadata": {
  "kernelspec": {
   "display_name": ".venv",
   "language": "python",
   "name": "python3"
  },
  "language_info": {
   "codemirror_mode": {
    "name": "ipython",
    "version": 3
   },
   "file_extension": ".py",
   "mimetype": "text/x-python",
   "name": "python",
   "nbconvert_exporter": "python",
   "pygments_lexer": "ipython3",
   "version": "3.11.6"
  }
 },
 "nbformat": 4,
 "nbformat_minor": 5
}
