{
 "cells": [
  {
   "cell_type": "markdown",
   "id": "b478a81a",
   "metadata": {},
   "source": [
    "# OpenAI results retrieval \n",
    "\n",
    "Retrieve OpenAI batch scripts once they are done running."
   ]
  },
  {
   "cell_type": "code",
   "execution_count": 11,
   "id": "5236c372",
   "metadata": {},
   "outputs": [
    {
     "name": "stdout",
     "output_type": "stream",
     "text": [
      "failed\n"
     ]
    }
   ],
   "source": [
    "from openai import OpenAI\n",
    "from dotenv import load_dotenv\n",
    "\n",
    "load_dotenv()\n",
    "client = OpenAI()\n",
    "\n",
    "batch_id = \"batch_680bfd5990bc8190b2c88d61b156ac2a\"\n",
    "\n",
    "batch = client.batches.retrieve(batch_id)\n",
    "print(batch.status) # Check status. Should be 'completed'"
   ]
  },
  {
   "cell_type": "markdown",
   "id": "5e708da3",
   "metadata": {},
   "source": [
    "Once completed, retrieve with:"
   ]
  },
  {
   "cell_type": "code",
   "execution_count": null,
   "id": "b7d2096d",
   "metadata": {},
   "outputs": [
    {
     "name": "stdout",
     "output_type": "stream",
     "text": [
      "{\"id\": \"batch_req_680b39d653948190860bfb36c3ad5c29\", \"custom_id\": \"0\", \"response\": {\"status_code\": 200, \"request_id\": \"d50340c6a7d007cf00b30186abb9c6de\", \"body\": {\"id\": \"chatcmpl-BQ7lr4YHn2T5Cm0NUff5GMsQ1lHOP\", \"object\": \"chat.completion\", \"created\": 1745566099, \"model\": \"gpt-4.1-2025-04-14\", \"choices\": [{\"index\": 0, \"message\": {\"role\": \"assistant\", \"content\": \"{\\\"count\\\":8}\", \"refusal\": null, \"annotations\": []}, \"logprobs\": null, \"finish_reason\": \"stop\"}], \"usage\": {\"prompt_tokens\": 486, \"completion_tokens\": 6, \"total_tokens\": 492, \"prompt_tokens_details\": {\"cached_tokens\": 0, \"audio_tokens\": 0}, \"completion_tokens_details\": {\"reasoning_tokens\": 0, \"audio_tokens\": 0, \"accepted_prediction_tokens\": 0, \"rejected_prediction_tokens\": 0}}, \"service_tier\": \"default\", \"system_fingerprint\": \"fp_b38e740b47\"}}, \"error\": null}\n"
     ]
    }
   ],
   "source": [
    "file_id = batch.output_file_id\n",
    "file_response = client.files.content(file_id=file_id)\n",
    "print(file_response.text.splitlines()[0])"
   ]
  },
  {
   "cell_type": "markdown",
   "id": "28a86dad",
   "metadata": {},
   "source": [
    "Save as DataFrame"
   ]
  },
  {
   "cell_type": "code",
   "execution_count": 39,
   "id": "9ce30b9a",
   "metadata": {},
   "outputs": [
    {
     "data": {
      "application/vnd.microsoft.datawrangler.viewer.v0+json": {
       "columns": [
        {
         "name": "index",
         "rawType": "int64",
         "type": "integer"
        },
        {
         "name": "custom_id",
         "rawType": "object",
         "type": "string"
        },
        {
         "name": "response",
         "rawType": "int64",
         "type": "integer"
        }
       ],
       "conversionMethod": "pd.DataFrame",
       "ref": "920571e7-a91b-4e1d-b8c7-d05a57e96f2b",
       "rows": [
        [
         "0",
         "0",
         "8"
        ],
        [
         "1",
         "1",
         "11"
        ],
        [
         "2",
         "2",
         "10"
        ],
        [
         "3",
         "3",
         "81"
        ],
        [
         "4",
         "4",
         "9"
        ]
       ],
       "shape": {
        "columns": 2,
        "rows": 5
       }
      },
      "text/html": [
       "<div>\n",
       "<style scoped>\n",
       "    .dataframe tbody tr th:only-of-type {\n",
       "        vertical-align: middle;\n",
       "    }\n",
       "\n",
       "    .dataframe tbody tr th {\n",
       "        vertical-align: top;\n",
       "    }\n",
       "\n",
       "    .dataframe thead th {\n",
       "        text-align: right;\n",
       "    }\n",
       "</style>\n",
       "<table border=\"1\" class=\"dataframe\">\n",
       "  <thead>\n",
       "    <tr style=\"text-align: right;\">\n",
       "      <th></th>\n",
       "      <th>custom_id</th>\n",
       "      <th>response</th>\n",
       "    </tr>\n",
       "  </thead>\n",
       "  <tbody>\n",
       "    <tr>\n",
       "      <th>0</th>\n",
       "      <td>0</td>\n",
       "      <td>8</td>\n",
       "    </tr>\n",
       "    <tr>\n",
       "      <th>1</th>\n",
       "      <td>1</td>\n",
       "      <td>11</td>\n",
       "    </tr>\n",
       "    <tr>\n",
       "      <th>2</th>\n",
       "      <td>2</td>\n",
       "      <td>10</td>\n",
       "    </tr>\n",
       "    <tr>\n",
       "      <th>3</th>\n",
       "      <td>3</td>\n",
       "      <td>81</td>\n",
       "    </tr>\n",
       "    <tr>\n",
       "      <th>4</th>\n",
       "      <td>4</td>\n",
       "      <td>9</td>\n",
       "    </tr>\n",
       "  </tbody>\n",
       "</table>\n",
       "</div>"
      ],
      "text/plain": [
       "  custom_id  response\n",
       "0         0         8\n",
       "1         1        11\n",
       "2         2        10\n",
       "3         3        81\n",
       "4         4         9"
      ]
     },
     "execution_count": 39,
     "metadata": {},
     "output_type": "execute_result"
    }
   ],
   "source": [
    "import json\n",
    "import pandas as pd\n",
    "\n",
    "jsonified = [\n",
    "    json.loads(line)\n",
    "    for line in file_response.text.splitlines()\n",
    "]\n",
    "\n",
    "custom_ids = [\n",
    "    obj['custom_id']\n",
    "    for obj in jsonified\n",
    "]\n",
    "\n",
    "responses = [\n",
    "    json.loads(\n",
    "        obj['response']['body']['choices'][0]['message']['content']        \n",
    "    )['count']\n",
    "    for obj in jsonified\n",
    "]\n",
    "\n",
    "df = pd.DataFrame({\n",
    "    'custom_id': custom_ids,\n",
    "    'response': responses\n",
    "})\n",
    "df.head()"
   ]
  },
  {
   "cell_type": "markdown",
   "id": "37b948dc",
   "metadata": {},
   "source": [
    "Save as csv:"
   ]
  },
  {
   "cell_type": "code",
   "execution_count": null,
   "id": "39774f45",
   "metadata": {},
   "outputs": [],
   "source": [
    "import time\n",
    "\n",
    "timestamp = time.strftime(\"%Y-%m-%d_%H-%M-%S\")"
   ]
  },
  {
   "cell_type": "code",
   "execution_count": null,
   "id": "dce20e62",
   "metadata": {},
   "outputs": [
    {
     "name": "stdout",
     "output_type": "stream",
     "text": [
      "gpt-4.1-2025-04-14\n"
     ]
    }
   ],
   "source": [
    "import os\n",
    "\n",
    "DATASET='TallyQA'\n",
    "DIR = '../eval/results/openai'\n",
    "\n",
    "model = jsonified[0]['response']['body']['model'].replace(\"/\", \"_\")\n",
    "\n",
    "os.makedirs(DIR + '/' + model, exist_ok=True)\n",
    "df.to_csv(f\"{DIR}/{model}/{timestamp}/{DATASET}.csv\", index=False)\n",
    "\n",
    "print(f\"Results saved to {DIR}/{model}/{timestamp}/{DATASET}.csv\")"
   ]
  },
  {
   "cell_type": "code",
   "execution_count": 8,
   "id": "61075e9b",
   "metadata": {},
   "outputs": [
    {
     "name": "stdout",
     "output_type": "stream",
     "text": [
      "Creating results...\n",
      "/cluster/project/sachan/pmlr/grounding-vlms/eval/valid_results/GPT-4.1/FSC-147_results.csv\n",
      "/cluster/project/sachan/pmlr/grounding-vlms/eval/valid_results/GPT-4.1/TallyQA_results.csv\n",
      "/cluster/project/sachan/pmlr/grounding-vlms/eval/valid_results/GPT-4.1/GeckoNum_results.csv\n",
      "/cluster/project/sachan/pmlr/grounding-vlms/eval/valid_results/claude-3.5-haiku/GeckoNum_results.csv\n",
      "/cluster/project/sachan/pmlr/grounding-vlms/eval/valid_results/claude-3.5-haiku/TallyQA_results.csv\n",
      "/cluster/project/sachan/pmlr/grounding-vlms/eval/valid_results/claude-3.5-haiku/FSC-147_results.csv\n",
      "/cluster/project/sachan/pmlr/grounding-vlms/eval/valid_results/gemini-2.5-flash-preview-04-17/FSC-147_results.csv\n",
      "/cluster/project/sachan/pmlr/grounding-vlms/eval/valid_results/gemini-2.5-flash-preview-04-17/TallyQA_results.csv\n",
      "/cluster/project/sachan/pmlr/grounding-vlms/eval/valid_results/gemini-2.5-flash-preview-04-17/GeckoNum_results.csv\n",
      "/cluster/project/sachan/pmlr/grounding-vlms/eval/valid_results/gemini-2.5-pro-preview-05-06/TallyQA_results.csv\n",
      "/cluster/project/sachan/pmlr/grounding-vlms/eval/valid_results/gemini-2.5-pro-preview-05-06/FSC-147_results.csv\n",
      "/cluster/project/sachan/pmlr/grounding-vlms/eval/valid_results/gemma-3-12b-it/FSC-147_results.csv\n",
      "/cluster/project/sachan/pmlr/grounding-vlms/eval/valid_results/gemma-3-12b-it/TallyQA_results.csv\n",
      "/cluster/project/sachan/pmlr/grounding-vlms/eval/valid_results/gemma-3-27b-it/FSC-147_results.csv\n",
      "/cluster/project/sachan/pmlr/grounding-vlms/eval/valid_results/gemma-3-27b-it/TallyQA_results.csv\n",
      "/cluster/project/sachan/pmlr/grounding-vlms/eval/valid_results/gemma-3-4b-it/FSC-147_results.csv\n",
      "/cluster/project/sachan/pmlr/grounding-vlms/eval/valid_results/gemma-3-4b-it/GeckoNum_results.csv\n",
      "/cluster/project/sachan/pmlr/grounding-vlms/eval/valid_results/grok-2-vision/FSC-147_results.csv\n",
      "/cluster/project/sachan/pmlr/grounding-vlms/eval/valid_results/grok-2-vision/TallyQA_results.csv\n",
      "/cluster/project/sachan/pmlr/grounding-vlms/eval/valid_results/grok-2-vision/GeckoNum_results.csv\n",
      "/cluster/project/sachan/pmlr/grounding-vlms/eval/valid_results/o4-mini/TallyQA_results.csv\n",
      "/cluster/project/sachan/pmlr/grounding-vlms/eval/valid_results/o4-mini/FSC-147_results.csv\n",
      "/cluster/project/sachan/pmlr/grounding-vlms/eval/valid_results/o4-mini/GeckoNum_results.csv\n",
      "Summary saved to /cluster/project/sachan/pmlr/grounding-vlms/eval/analysis/summary.csv\n",
      "/cluster/project/sachan/pmlr/grounding-vlms/eval/valid_results/GPT-4.1/FSC-147_results.csv\n",
      "/cluster/project/sachan/pmlr/grounding-vlms/eval/valid_results/claude-3.5-haiku/FSC-147_results.csv\n",
      "/cluster/project/sachan/pmlr/grounding-vlms/eval/valid_results/gemini-2.5-flash-preview-04-17/FSC-147_results.csv\n",
      "/cluster/project/sachan/pmlr/grounding-vlms/eval/valid_results/gemini-2.5-pro-preview-05-06/FSC-147_results.csv\n",
      "/cluster/project/sachan/pmlr/grounding-vlms/eval/valid_results/gemma-3-12b-it/FSC-147_results.csv\n",
      "/cluster/project/sachan/pmlr/grounding-vlms/eval/valid_results/gemma-3-27b-it/FSC-147_results.csv\n",
      "/cluster/project/sachan/pmlr/grounding-vlms/eval/valid_results/gemma-3-4b-it/FSC-147_results.csv\n",
      "/cluster/project/sachan/pmlr/grounding-vlms/eval/valid_results/grok-2-vision/FSC-147_results.csv\n",
      "/cluster/project/sachan/pmlr/grounding-vlms/eval/valid_results/o4-mini/FSC-147_results.csv\n",
      "/cluster/project/sachan/pmlr/grounding-vlms/eval/valid_results/GPT-4.1/GeckoNum_results.csv\n",
      "/cluster/project/sachan/pmlr/grounding-vlms/eval/valid_results/claude-3.5-haiku/GeckoNum_results.csv\n",
      "/cluster/project/sachan/pmlr/grounding-vlms/eval/valid_results/gemini-2.5-flash-preview-04-17/GeckoNum_results.csv\n",
      "/cluster/project/sachan/pmlr/grounding-vlms/eval/valid_results/gemma-3-4b-it/GeckoNum_results.csv\n",
      "/cluster/project/sachan/pmlr/grounding-vlms/eval/valid_results/grok-2-vision/GeckoNum_results.csv\n",
      "/cluster/project/sachan/pmlr/grounding-vlms/eval/valid_results/o4-mini/GeckoNum_results.csv\n",
      "/cluster/project/sachan/pmlr/grounding-vlms/eval/valid_results/GPT-4.1/TallyQA_results.csv\n",
      "/cluster/project/sachan/pmlr/grounding-vlms/eval/valid_results/claude-3.5-haiku/TallyQA_results.csv\n",
      "/cluster/project/sachan/pmlr/grounding-vlms/eval/valid_results/gemini-2.5-flash-preview-04-17/TallyQA_results.csv\n",
      "/cluster/project/sachan/pmlr/grounding-vlms/eval/valid_results/gemini-2.5-pro-preview-05-06/TallyQA_results.csv\n",
      "/cluster/project/sachan/pmlr/grounding-vlms/eval/valid_results/gemma-3-12b-it/TallyQA_results.csv\n",
      "/cluster/project/sachan/pmlr/grounding-vlms/eval/valid_results/gemma-3-27b-it/TallyQA_results.csv\n",
      "/cluster/project/sachan/pmlr/grounding-vlms/eval/valid_results/grok-2-vision/TallyQA_results.csv\n",
      "/cluster/project/sachan/pmlr/grounding-vlms/eval/valid_results/o4-mini/TallyQA_results.csv\n",
      "/cluster/project/sachan/pmlr/grounding-vlms/eval/valid_results/GPT-4.1/FSC-147_results.csv\n",
      "/cluster/project/sachan/pmlr/grounding-vlms/eval/valid_results/claude-3.5-haiku/FSC-147_results.csv\n",
      "/cluster/project/sachan/pmlr/grounding-vlms/eval/valid_results/gemini-2.5-flash-preview-04-17/FSC-147_results.csv\n",
      "/cluster/project/sachan/pmlr/grounding-vlms/eval/valid_results/gemini-2.5-pro-preview-05-06/FSC-147_results.csv\n",
      "/cluster/project/sachan/pmlr/grounding-vlms/eval/valid_results/gemma-3-12b-it/FSC-147_results.csv\n",
      "/cluster/project/sachan/pmlr/grounding-vlms/eval/valid_results/gemma-3-27b-it/FSC-147_results.csv\n",
      "/cluster/project/sachan/pmlr/grounding-vlms/eval/valid_results/gemma-3-4b-it/FSC-147_results.csv\n",
      "/cluster/project/sachan/pmlr/grounding-vlms/eval/valid_results/grok-2-vision/FSC-147_results.csv\n",
      "/cluster/project/sachan/pmlr/grounding-vlms/eval/valid_results/o4-mini/FSC-147_results.csv\n",
      "/cluster/project/sachan/pmlr/grounding-vlms/eval/valid_results/GPT-4.1/GeckoNum_results.csv\n",
      "/cluster/project/sachan/pmlr/grounding-vlms/eval/valid_results/claude-3.5-haiku/GeckoNum_results.csv\n",
      "/cluster/project/sachan/pmlr/grounding-vlms/eval/valid_results/gemini-2.5-flash-preview-04-17/GeckoNum_results.csv\n",
      "/cluster/project/sachan/pmlr/grounding-vlms/eval/valid_results/gemma-3-4b-it/GeckoNum_results.csv\n",
      "/cluster/project/sachan/pmlr/grounding-vlms/eval/valid_results/grok-2-vision/GeckoNum_results.csv\n",
      "/cluster/project/sachan/pmlr/grounding-vlms/eval/valid_results/o4-mini/GeckoNum_results.csv\n",
      "/cluster/project/sachan/pmlr/grounding-vlms/eval/valid_results/GPT-4.1/TallyQA_results.csv\n",
      "/cluster/project/sachan/pmlr/grounding-vlms/eval/valid_results/claude-3.5-haiku/TallyQA_results.csv\n",
      "/cluster/project/sachan/pmlr/grounding-vlms/eval/valid_results/gemini-2.5-flash-preview-04-17/TallyQA_results.csv\n",
      "/cluster/project/sachan/pmlr/grounding-vlms/eval/valid_results/gemini-2.5-pro-preview-05-06/TallyQA_results.csv\n",
      "/cluster/project/sachan/pmlr/grounding-vlms/eval/valid_results/gemma-3-12b-it/TallyQA_results.csv\n",
      "/cluster/project/sachan/pmlr/grounding-vlms/eval/valid_results/gemma-3-27b-it/TallyQA_results.csv\n",
      "/cluster/project/sachan/pmlr/grounding-vlms/eval/valid_results/grok-2-vision/TallyQA_results.csv\n",
      "/cluster/project/sachan/pmlr/grounding-vlms/eval/valid_results/o4-mini/TallyQA_results.csv\n",
      "Plots saved to /cluster/project/sachan/pmlr/grounding-vlms/eval/analysis/plots\n"
     ]
    }
   ],
   "source": [
    "from models.results import create_results\n",
    "create_results()"
   ]
  }
 ],
 "metadata": {
  "kernelspec": {
   "display_name": ".venv",
   "language": "python",
   "name": "python3"
  },
  "language_info": {
   "codemirror_mode": {
    "name": "ipython",
    "version": 3
   },
   "file_extension": ".py",
   "mimetype": "text/x-python",
   "name": "python",
   "nbconvert_exporter": "python",
   "pygments_lexer": "ipython3",
   "version": "3.11.6"
  }
 },
 "nbformat": 4,
 "nbformat_minor": 5
}
